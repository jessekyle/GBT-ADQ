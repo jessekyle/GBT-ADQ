{
 "cells": [
  {
   "cell_type": "code",
   "execution_count": null,
   "metadata": {
    "collapsed": true
   },
   "outputs": [],
   "source": [
    "import subprocess\n",
    "\n",
    "Test8 = subprocess.list2cmdline([\"echo\", \"'select ant_motion from status;'\",\n",
    "                                \"|\", \"mysql\", \"-h\", \"gbtdata.gbt.nrao.edu\", \"-u\",\n",
    "                                \"gbtstatus\", \"--password=w3bquery\", \"-E\",\n",
    "                                \"gbt_status\"])\n",
    "\n",
    "answer = subprocess.getoutput(Test8)\n",
    "\n",
    "if answer == \"ant_motion: Slewing\":\n",
    "    print(\"Slewing\")\n",
    "elif answer == \"ant_motion: Guiding\":\n",
    "    print(\"Guiding\")\n",
    "else:\n",
    "    print(\"Not Slewing or Guiding\")"
   ]
  },
  {
   "cell_type": "code",
   "execution_count": 7,
   "metadata": {},
   "outputs": [
    {
     "name": "stdout",
     "output_type": "stream",
     "text": [
      "b\"'select ant_motion from status;' | mysql -h gbtdata.gbt.nrao.edu -u gbtstatus --password=w3bquery -E gbt_status\\n\"\n"
     ]
    }
   ],
   "source": [
    "import subprocess\n",
    "newline = None\n",
    "\n",
    "Test1 = subprocess.run([\"echo\", \"'select ant_motion from status;'\",\n",
    "                        \"|\", \"mysql\", \"-h\", \"gbtdata.gbt.nrao.edu\", \"-u\",\n",
    "                        \"gbtstatus\", \"--password=w3bquery\", \"-E\",\n",
    "                        \"gbt_status\"], \n",
    "                       stdout=subprocess.PIPE,\n",
    "                       stderr=subprocess.PIPE)\n",
    "print(\"{Test1.stdout}\".format(Test1=Test1))"
   ]
  },
  {
   "cell_type": "code",
   "execution_count": 42,
   "metadata": {},
   "outputs": [
    {
     "name": "stdout",
     "output_type": "stream",
     "text": [
      "b\"'hello'\\n\"\n"
     ]
    }
   ],
   "source": [
    "import subprocess\n",
    "from subprocess import Popen, PIPE\n",
    "\n",
    "Test1 = subprocess.Popen([\"echo\", \"'hello'\"], \n",
    "                       stdout=PIPE)\n",
    "\n",
    "out, err = Test1.communicate()\n",
    "print(out)\n",
    "\n",
    "\n",
    "\n"
   ]
  },
  {
   "cell_type": "code",
   "execution_count": null,
   "metadata": {
    "collapsed": true
   },
   "outputs": [],
   "source": []
  }
 ],
 "metadata": {
  "kernelspec": {
   "display_name": "Python 3",
   "language": "python",
   "name": "python3"
  },
  "language_info": {
   "codemirror_mode": {
    "name": "ipython",
    "version": 3
   },
   "file_extension": ".py",
   "mimetype": "text/x-python",
   "name": "python",
   "nbconvert_exporter": "python",
   "pygments_lexer": "ipython3",
   "version": "3.6.1"
  }
 },
 "nbformat": 4,
 "nbformat_minor": 2
}
