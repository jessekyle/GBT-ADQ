{
 "cells": [
  {
   "cell_type": "code",
   "execution_count": 5,
   "metadata": {},
   "outputs": [
    {
     "name": "stdout",
     "output_type": "stream",
     "text": [
      "b'\"select ant_motion from status;\" | mysql -h gbtdata.gbt.nrao.edu -u gbtstatus --password=w3bqu3ry -E gbt_status\\n'\n"
     ]
    }
   ],
   "source": [
    "import os\n",
    "import MySQLdb\n",
    "import subprocess\n",
    "\n",
    "#os.system(\"echo \"select ant_motion from status;\" \n",
    "#          | mysql -h gbtdata.gbt.nrao.edu -u gbtstatus --password=w3bqu3ry -E gbt_status\")\n",
    "          \n",
    "result = subprocess.check_output(['echo','\"select ant_motion from status;\"',\n",
    "                                  '| mysql -h gbtdata.gbt.nrao.edu -u gbtstatus --password=w3bqu3ry -E gbt_status'])\n",
    "          \n",
    "print(result)\n",
    "\n",
    "#conn = pymysql.connect(host='gbtdata.gbt.nrao.edu', user='gbtstatus',\n",
    "#                       passwd='w3bqu3ry', db='gbt_status')\n",
    "#print(conn)"
   ]
  },
  {
   "cell_type": "code",
   "execution_count": null,
   "metadata": {
    "collapsed": true
   },
   "outputs": [],
   "source": []
  }
 ],
 "metadata": {
  "kernelspec": {
   "display_name": "Python 3",
   "language": "python",
   "name": "python3"
  },
  "language_info": {
   "codemirror_mode": {
    "name": "ipython",
    "version": 3
   },
   "file_extension": ".py",
   "mimetype": "text/x-python",
   "name": "python",
   "nbconvert_exporter": "python",
   "pygments_lexer": "ipython3",
   "version": "3.6.1"
  }
 },
 "nbformat": 4,
 "nbformat_minor": 2
}
