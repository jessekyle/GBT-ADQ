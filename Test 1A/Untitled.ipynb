{
 "cells": [
  {
   "cell_type": "code",
   "execution_count": 9,
   "metadata": {
    "collapsed": false
   },
   "outputs": [
    {
     "ename": "SyntaxError",
     "evalue": "invalid syntax (<ipython-input-9-96ef03511f95>, line 5)",
     "output_type": "error",
     "traceback": [
      "\u001b[1;36m  File \u001b[1;32m\"<ipython-input-9-96ef03511f95>\"\u001b[1;36m, line \u001b[1;32m5\u001b[0m\n\u001b[1;33m    subprocess.PIPE(echo “select ant_motion from status;” | mysql -h gbtdata.gbt.nrao.edu -u gbtstatus —password=w3bqu3ry -E gbt_status)\u001b[0m\n\u001b[1;37m                         ^\u001b[0m\n\u001b[1;31mSyntaxError\u001b[0m\u001b[1;31m:\u001b[0m invalid syntax\n"
     ]
    }
   ],
   "source": [
    "import os\n",
    "import subprocess\n",
    "\n",
    "#result = subprocess.check_output('echo “select ant_motion from status;” | mysql -h gbtdata.gbt.nrao.edu -u gbtstatus —password=w3bqu3ry -E gbt_status')\n",
    "#subprocess.PIPE(echo “select ant_motion from status;” | mysql -h gbtdata.gbt.nrao.edu -u gbtstatus —password=w3bqu3ry -E gbt_status)\n",
    "os."
   ]
  },
  {
   "cell_type": "code",
   "execution_count": null,
   "metadata": {
    "collapsed": true
   },
   "outputs": [],
   "source": []
  }
 ],
 "metadata": {
  "kernelspec": {
   "display_name": "Python 2",
   "language": "python",
   "name": "python2"
  },
  "language_info": {
   "codemirror_mode": {
    "name": "ipython",
    "version": 2
   },
   "file_extension": ".py",
   "mimetype": "text/x-python",
   "name": "python",
   "nbconvert_exporter": "python",
   "pygments_lexer": "ipython2",
   "version": "2.7.3"
  }
 },
 "nbformat": 4,
 "nbformat_minor": 2
}
