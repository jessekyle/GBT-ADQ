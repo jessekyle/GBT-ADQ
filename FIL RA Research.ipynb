{
 "cells": [
  {
   "cell_type": "code",
   "execution_count": 1,
   "metadata": {
    "collapsed": true
   },
   "outputs": [],
   "source": [
    "#! /usr/bin/python"
   ]
  },
  {
   "cell_type": "code",
   "execution_count": 2,
   "metadata": {
    "collapsed": true
   },
   "outputs": [],
   "source": [
    "from blimpy import Filterbank\n",
    "import os\n",
    "import subprocess"
   ]
  },
  {
   "cell_type": "code",
   "execution_count": 21,
   "metadata": {},
   "outputs": [
    {
     "name": "stdout",
     "output_type": "stream",
     "text": [
      "What node are you looking at? e.g. blc00blc00\n",
      "What is the project ID? e.g. AGBT17A_999_?93\n",
      "What is the observation number of the source?e.g. blc00_GUPPI_12345_?_SOURCE...12345\n",
      "What is the source name? e.g. ross128ross128\n"
     ]
    }
   ],
   "source": [
    "node = input(\"What node are you looking at? e.g. blc00\")\n",
    "projid = input(\"What is the project ID? e.g. AGBT17A_999_?\")\n",
    "number = input(\"What is the observation number of the source?\" + \n",
    "              \"e.g. blc00_GUPPI_12345_?_SOURCE...\")\n",
    "source = input(\"What is the source name? e.g. ross128\")\n",
    "#test with blc00, 93, 75515, ross128"
   ]
  },
  {
   "cell_type": "code",
   "execution_count": 22,
   "metadata": {},
   "outputs": [
    {
     "name": "stdout",
     "output_type": "stream",
     "text": [
      "blc00\n",
      "93\n",
      "12345\n",
      "ross128\n"
     ]
    }
   ],
   "source": [
    "print(node)\n",
    "print(projid)\n",
    "print(number)\n",
    "print(source)"
   ]
  },
  {
   "cell_type": "code",
   "execution_count": 39,
   "metadata": {
    "collapsed": true
   },
   "outputs": [],
   "source": [
    "time_test = subprocess.check_output([\"/home/jkyle/filbashtime\",\n",
    "                                    node, projid, number, source])\n",
    "time_list = time_test.split()\n",
    "time_array = [float(i) for i in time_list]"
   ]
  },
  {
   "cell_type": "code",
   "execution_count": 5,
   "metadata": {},
   "outputs": [
    {
     "name": "stdout",
     "output_type": "stream",
     "text": [
      "b'/Users/jessekyle/bl-interns/jessekyle\\n'\n",
      "[b'blc0', b'blc1', b'blc2', b'blc3', b'blc4', b'blc5', b'blc6', b'blc7']\n"
     ]
    },
    {
     "ename": "FileNotFoundError",
     "evalue": "[Errno 2] No such file or directory: b'blc0'",
     "output_type": "error",
     "traceback": [
      "\u001b[0;31m---------------------------------------------------------------------------\u001b[0m",
      "\u001b[0;31mFileNotFoundError\u001b[0m                         Traceback (most recent call last)",
      "\u001b[0;32m<ipython-input-5-d86b55adc260>\u001b[0m in \u001b[0;36m<module>\u001b[0;34m()\u001b[0m\n\u001b[1;32m      5\u001b[0m \u001b[0mprint\u001b[0m\u001b[0;34m(\u001b[0m\u001b[0mfilenames\u001b[0m\u001b[0;34m)\u001b[0m\u001b[0;34m\u001b[0m\u001b[0m\n\u001b[1;32m      6\u001b[0m \u001b[0;32mfor\u001b[0m \u001b[0mfilename\u001b[0m \u001b[0;32min\u001b[0m \u001b[0mfilenames\u001b[0m\u001b[0;34m:\u001b[0m\u001b[0;34m\u001b[0m\u001b[0m\n\u001b[0;32m----> 7\u001b[0;31m     \u001b[0;32mwith\u001b[0m \u001b[0mopen\u001b[0m\u001b[0;34m(\u001b[0m\u001b[0mfilename\u001b[0m\u001b[0;34m)\u001b[0m \u001b[0;32mas\u001b[0m \u001b[0mfile_obj\u001b[0m\u001b[0;34m:\u001b[0m\u001b[0;34m\u001b[0m\u001b[0m\n\u001b[0m\u001b[1;32m      8\u001b[0m         \u001b[0mfile_data\u001b[0m \u001b[0;34m=\u001b[0m \u001b[0;34m[\u001b[0m\u001b[0mfloat\u001b[0m\u001b[0;34m(\u001b[0m\u001b[0ma\u001b[0m\u001b[0;34m)\u001b[0m \u001b[0;32mfor\u001b[0m \u001b[0ma\u001b[0m \u001b[0;32min\u001b[0m \u001b[0mfile_obj\u001b[0m\u001b[0;34m.\u001b[0m\u001b[0mreadlines\u001b[0m\u001b[0;34m(\u001b[0m\u001b[0;34m)\u001b[0m\u001b[0;34m]\u001b[0m\u001b[0;34m\u001b[0m\u001b[0m\n",
      "\u001b[0;31mFileNotFoundError\u001b[0m: [Errno 2] No such file or directory: b'blc0'"
     ]
    }
   ],
   "source": [
    "ra_filenames = subprocess.check_output(['ls', '-1',\n",
    "                                     '/home/jkyle/ra']).split()\n",
    "for filename in ra_filenames:\n",
    "    with open(filename) as file_obj:\n",
    "        file_data = [float(a) for a in file_obj.readlines()]"
   ]
  },
  {
   "cell_type": "code",
   "execution_count": null,
   "metadata": {
    "collapsed": true
   },
   "outputs": [],
   "source": [
    "dec_filenames = subprocess.check_output(['ls', '-1',\n",
    "                                     '/home/jkyle/dec']).split()\n",
    "for filename in dec_filenames:\n",
    "    with open(filename) as file_obj:\n",
    "        file_data = [float(a) for a in file_obj.readlines()]"
   ]
  },
  {
   "cell_type": "code",
   "execution_count": null,
   "metadata": {
    "collapsed": true
   },
   "outputs": [],
   "source": []
  },
  {
   "cell_type": "code",
   "execution_count": 13,
   "metadata": {
    "collapsed": true
   },
   "outputs": [],
   "source": [
    "def raprocess(var):\n",
    "    #call a file name in ra/ to process into float list\n",
    "    var = subprocess.check_output(['cat', '/home/jkyle/ra/' + var])\n",
    "    ra_list = var.split()\n",
    "    var = [float(a) for a in ra_list]\n",
    "    return var"
   ]
  },
  {
   "cell_type": "code",
   "execution_count": null,
   "metadata": {
    "collapsed": true
   },
   "outputs": [],
   "source": [
    "def decprocess(var):\n",
    "    #call a file name in dec/ to process into float list\n",
    "    var = subprocess.check_output(['cat', '/home/jkyle/dec/' + var])\n",
    "    dec_list = var.split()\n",
    "    var = [float(a) for a in dec_list]\n",
    "    return var"
   ]
  },
  {
   "cell_type": "code",
   "execution_count": null,
   "metadata": {
    "collapsed": true
   },
   "outputs": [],
   "source": [
    "raross_1blc00 = "
   ]
  },
  {
   "cell_type": "code",
   "execution_count": 14,
   "metadata": {},
   "outputs": [
    {
     "name": "stdout",
     "output_type": "stream",
     "text": [
      "radiag_1blc00 is filenamesra 0\n",
      "rahip_1blc00 is filenamesra 1\n",
      "rahip_2blc00 is filenamesra 2\n",
      "rahip_3blc00 is filenamesra 3\n",
      "raj1103_1blc00 is filenamesra 4\n",
      "raj1136_1blc00 is filenamesra 5\n",
      "raross_1blc00 is filenamesra 6\n",
      "raross_2blc00 is filenamesra 7\n",
      "raross_3blc00 is filenamesra 8\n",
      "raross_4blc00 is filenamesra 9\n"
     ]
    }
   ],
   "source": [
    "filenamesra = ['radiag_1blc00','rahip_1blc00','rahip_2blc00','rahip_3blc00','raj1103_1blc00',\n",
    "             'raj1136_1blc00','raross_1blc00','raross_2blc00','raross_3blc00','raross_4blc00']\n",
    "\n",
    "for x in range(0,10):\n",
    "    print(filenamesra[x] + ' is filenamesra ' + str(x))\n",
    "\n",
    "filenamesra[0] = raprocess(str(filenamesra[0]))\n",
    "filenamesra[1] = raprocess(str(filenamesra[1]))\n",
    "filenamesra[2] = raprocess(str(filenamesra[2]))\n",
    "filenamesra[3] = raprocess(str(filenamesra[3]))\n",
    "filenamesra[4] = raprocess(str(filenamesra[4]))\n",
    "filenamesra[5] = raprocess(str(filenamesra[5]))\n",
    "filenamesra[6] = raprocess(str(filenamesra[6]))\n",
    "filenamesra[7] = raprocess(str(filenamesra[7]))\n",
    "filenamesra[8] = raprocess(str(filenamesra[8]))\n",
    "filenamesra[9] = raprocess(str(filenamesra[9]))"
   ]
  },
  {
   "cell_type": "code",
   "execution_count": 16,
   "metadata": {},
   "outputs": [
    {
     "name": "stdout",
     "output_type": "stream",
     "text": [
      "decdiag_1blc00 is filenamesdec 0\n",
      "dechip_1blc00 is filenamesdec 1\n",
      "dechip_2blc00 is filenamesdec 2\n",
      "dechip_3blc00 is filenamesdec 3\n",
      "decj1103_1blc00 is filenamesdec 4\n",
      "decj1136_1blc00 is filenamesdec 5\n",
      "decross_1blc00 is filenamesdec 6\n",
      "decross_2blc00 is filenamesdec 7\n",
      "decross_3blc00 is filenamesdec 8\n",
      "decross_4blc00 is filenamesdec 9\n"
     ]
    }
   ],
   "source": [
    "filenamesdec = ['decdiag_1blc00','dechip_1blc00','dechip_2blc00','dechip_3blc00','decj1103_1blc00',\n",
    "             'decj1136_1blc00','decross_1blc00','decross_2blc00','decross_3blc00','decross_4blc00']\n",
    "\n",
    "for x in range(0,10):\n",
    "    print(filenamesdec[x] + ' is filenamesdec ' + str(x))\n",
    "\n",
    "filenamesdec[0] = decprocess(str(filenamesdec[0]))\n",
    "filenamesdec[1] = decprocess(str(filenamesdec[1]))\n",
    "filenamesdec[2] = decprocess(str(filenamesdec[2]))\n",
    "filenamesdec[3] = decprocess(str(filenamesdec[3]))\n",
    "filenamesdec[4] = decprocess(str(filenamesdec[4]))\n",
    "filenamesdec[5] = decprocess(str(filenamesdec[5]))\n",
    "filenamesdec[6] = decprocess(str(filenamesdec[6]))\n",
    "filenamesdec[7] = decprocess(str(filenamesdec[7]))\n",
    "filenamesdec[8] = decprocess(str(filenamesdec[8]))\n",
    "filenamesdec[9] = decprocess(str(filenamesdec[9]))"
   ]
  },
  {
   "cell_type": "code",
   "execution_count": 47,
   "metadata": {},
   "outputs": [
    {
     "name": "stdout",
     "output_type": "stream",
     "text": [
      "['decdiag_1blc00', 'decdiag_1blc01', 'decdiag_1blc02', 'decdiag_1blc03', 'decdiag_1blc04', 'decdiag_1blc05', 'decdiag_1blc06']\n"
     ]
    }
   ],
   "source": [
    "diag_dec = []\n",
    "hip_dec = []\n",
    "j1103_dec = []\n",
    "j1136_dec = []\n",
    "ross_dec = []\n",
    "\n",
    "for x in range(0,8):\n",
    "    diag_dec.append(\"decdiag_1blc0\" + str(x))\n",
    "    hip_dec.append(\"dechip_1blc0\" + str(x))\n",
    "    hip_dec.append(\"dechip_2blc0\" + str(x))\n",
    "    hip_dec.append(\"dechip_3blc0\" + str(x))\n",
    "    j1103_dec.append(\"decj1103_1blc0\" + str(x))\n",
    "    j1136_dec.append(\"decj1136_1blc0\" + str(x))\n",
    "    ross_dec.append(\"decross_1blc0\" + str(x))\n",
    "    ross_dec.append(\"decross_2blc0\" + str(x))\n",
    "    ross_dec.append(\"decross_3blc0\" + str(x))\n",
    "    ross_dec.append(\"decross_4blc0\" + str(x))\n",
    "\n",
    "print(diag_dec)\n",
    "#print(hip_dec)\n",
    "#print(j1103_dec)\n",
    "#print(j1136_dec)\n",
    "#print(ross_dec)"
   ]
  },
  {
   "cell_type": "code",
   "execution_count": 48,
   "metadata": {},
   "outputs": [
    {
     "name": "stdout",
     "output_type": "stream",
     "text": [
      "671\n",
      "671\n",
      "671\n",
      "671\n",
      "671\n",
      "671\n",
      "671\n"
     ]
    }
   ],
   "source": [
    "diag_dec[0] = decprocess(str(diag_dec[0]))\n",
    "diag_dec[1] = decprocess(str(diag_dec[1]))\n",
    "diag_dec[2] = decprocess(str(diag_dec[2]))\n",
    "diag_dec[3] = decprocess(str(diag_dec[3]))\n",
    "diag_dec[4] = decprocess(str(diag_dec[4]))\n",
    "diag_dec[5] = decprocess(str(diag_dec[5]))\n",
    "diag_dec[6] = decprocess(str(diag_dec[6]))\n",
    "for x in range(0,7):\n",
    "    print(len(diag_dec[x]))\n"
   ]
  },
  {
   "cell_type": "code",
   "execution_count": 33,
   "metadata": {},
   "outputs": [
    {
     "name": "stdout",
     "output_type": "stream",
     "text": [
      "672\n"
     ]
    }
   ],
   "source": []
  },
  {
   "cell_type": "code",
   "execution_count": 165,
   "metadata": {},
   "outputs": [
    {
     "name": "stdout",
     "output_type": "stream",
     "text": [
      "672\n",
      "1677\n",
      "1677\n",
      "1677\n",
      "672\n",
      "672\n",
      "1677\n",
      "1677\n",
      "1677\n",
      "1677\n",
      "\n",
      "\n",
      "672\n",
      "1677\n",
      "1677\n",
      "1677\n",
      "672\n",
      "672\n",
      "1677\n",
      "1677\n",
      "1677\n",
      "1677\n"
     ]
    }
   ],
   "source": [
    "del (filenamesra[1])[-1]\n",
    "del (filenamesra[3])[-1]\n",
    "del (filenamesra[6])[-1]\n",
    "del (filenamesra[9])[1676:-1]\n",
    "\n",
    "del (filenamesdec[1])[-1]\n",
    "del (filenamesdec[3])[-1]\n",
    "del (filenamesdec[6])[-1]\n",
    "del (filenamesdec[9])[1676:-1]\n",
    "\n",
    "for i in filenamesra:\n",
    "    print(len(i))\n",
    "print(\"\\n\")\n",
    "\n",
    "for i in filenamesdec:\n",
    "    print(len(i))"
   ]
  },
  {
   "cell_type": "code",
   "execution_count": 166,
   "metadata": {},
   "outputs": [
    {
     "name": "stdout",
     "output_type": "stream",
     "text": [
      "1678\n",
      "1677\n",
      "673\n"
     ]
    }
   ],
   "source": [
    "print(len(time_array))\n",
    "del time_array[-1]\n",
    "print(len(time_array))"
   ]
  },
  {
   "cell_type": "code",
   "execution_count": 54,
   "metadata": {},
   "outputs": [
    {
     "name": "stdout",
     "output_type": "stream",
     "text": [
      "672\n",
      "671\n"
     ]
    }
   ],
   "source": [
    "time_array_short = time_array[0:672]\n",
    "time_array_shorter = time_array[0:671]\n",
    "print(len(time_array_short))\n",
    "print(len(time_array_shorter))"
   ]
  },
  {
   "cell_type": "code",
   "execution_count": 168,
   "metadata": {},
   "outputs": [
    {
     "name": "stdout",
     "output_type": "stream",
     "text": [
      "176.983317533\n",
      "176.886660866\n",
      "0.85288750005\n",
      "0.75622083335\n"
     ]
    }
   ],
   "source": [
    "ra_true = 176.9349892\n",
    "dec_true = 0.8045541667\n",
    "\n",
    "ra_beam = 0.096656667\n",
    "dec_beam = 0.0966666667\n",
    "\n",
    "ra_high = ra_true + (ra_beam/2)\n",
    "ra_low = ra_true - (ra_beam/2)\n",
    "print(ra_high)\n",
    "print(ra_low)\n",
    "\n",
    "dec_high = dec_true + (dec_beam/2)\n",
    "dec_low = dec_true - (dec_beam/2)\n",
    "print(dec_high)\n",
    "print(dec_low)"
   ]
  },
  {
   "cell_type": "code",
   "execution_count": 2,
   "metadata": {
    "collapsed": true
   },
   "outputs": [],
   "source": [
    "import matplotlib.pyplot as plt\n",
    "import matplotlib.axes as ax\n",
    "import bokeh\n",
    "from bokeh.plotting import figure, output_file, show\n",
    "import numpy as np\n",
    "#%matplotlib notebook\n",
    "#time_array, ra_array, dec_array"
   ]
  },
  {
   "cell_type": "code",
   "execution_count": 15,
   "metadata": {
    "collapsed": true
   },
   "outputs": [],
   "source": [
    "#p = figure(plot_width=400, plot_height=400)\n",
    "#p.line([time_array], [ra_array], line_width=2)\n",
    "#show(p)\n",
    "\n",
    "#plt.plot([time_array], [ra_array], 'ro')\n",
    "#plt.axis([39350, 39653, 0, 20])\n",
    "#plt.show()\n",
    "\n",
    "#plt.plot(time_array, ra_array, linewidth=2.0)\n",
    "#plt.plot(time_array, rablc00, 'b', lw=1)\n",
    "#plt.plot(time_array, rablc02, 'r', lw=1)\n",
    "#plt.plot(time_array, rablc05, 'g', lw=1)\n",
    "#plt.axis([39349, 39655, 176.93, 176.945])\n",
    "#plt.axis([39349, 39655, 176.8, 177.1])\n",
    "#plt.plot([39300, 39700], [176.9349892, 176.9349892], 'k-', lw=1)\n",
    "#plt.plot([39300, 39700], [177.018322533, 177.018322533], lw=1)\n",
    "#plt.axhspan(ra_high, ra_low, color='green', alpha=0.5)\n",
    "#plt.show()\n",
    "\n",
    "#print(ra_array)"
   ]
  },
  {
   "cell_type": "code",
   "execution_count": 170,
   "metadata": {
    "collapsed": true
   },
   "outputs": [],
   "source": [
    "plt.plot(time_array, filenamesra[6], 'r', lw=1.0)\n",
    "plt.plot(time_array, filenamesra[7], 'g', lw=1.0)\n",
    "plt.plot(time_array, filenamesra[8], 'b', lw=1.0)\n",
    "plt.plot(time_array, filenamesra[9], 'y', lw=1.0)\n",
    "#plt.axis([39349, 39655, 0.803, 0.81])\n",
    "plt.axis([39349, 39655, 176.93, 176.945])\n",
    "plt.plot([39300, 39700], [176.9349892, 176.9349892], 'k-', lw=1)\n",
    "#plt.axhspan(dec_high, dec_low, color='green', alpha=0.5)\n",
    "plt.xlabel('Time in seconds')\n",
    "plt.ylabel('Right Ascension')\n",
    "plt.show()"
   ]
  },
  {
   "cell_type": "code",
   "execution_count": 178,
   "metadata": {
    "collapsed": true
   },
   "outputs": [],
   "source": [
    "plt.plot(time_array_short, filenamesra[0], 'r', lw=1.0)\n",
    "#plt.axis([39349, 39655, 0.803, 0.81])\n",
    "#plt.axis([39349, 39655, 30.44, 30.455])\n",
    "plt.plot([39348, 39655], [36.7670833, 36.7670833], 'k-', lw=1)\n",
    "#plt.axhspan(dec_high, dec_low, color='green', alpha=0.5)\n",
    "plt.xlabel('Time in seconds')\n",
    "plt.ylabel('Right Ascension')\n",
    "plt.show()"
   ]
  },
  {
   "cell_type": "code",
   "execution_count": 182,
   "metadata": {
    "collapsed": true
   },
   "outputs": [],
   "source": [
    "plt.plot(time_array_short, filenamesra[5], 'r', lw=1.0)\n",
    "#plt.axis([39349, 39655, 0.803, 0.81])\n",
    "#plt.axis([39349, 39655, 30.44, 30.455])\n",
    "plt.plot([39348, 39655], [174.0135196, 174.0135196], 'k-', lw=1)\n",
    "#plt.axhspan(dec_high, dec_low, color='green', alpha=0.5)\n",
    "plt.xlabel('Time in seconds')\n",
    "plt.ylabel('Right Ascension')\n",
    "plt.show()"
   ]
  },
  {
   "cell_type": "code",
   "execution_count": 180,
   "metadata": {
    "collapsed": true
   },
   "outputs": [],
   "source": [
    "plt.plot(time_array, filenamesra[1], 'r', lw=1.0)\n",
    "plt.plot(time_array, filenamesra[2], 'g', lw=1.0)\n",
    "plt.plot(time_array, filenamesra[3], 'b', lw=1.0)\n",
    "#plt.axis([39349, 39655, 0.803, 0.81])\n",
    "#plt.axis([39349, 39655, 30.44, 30.455])\n",
    "plt.plot([39348, 39655], [171.6891667, 171.6891667], 'k-', lw=1)\n",
    "#plt.axhspan(dec_high, dec_low, color='green', alpha=0.5)\n",
    "plt.xlabel('Time in seconds')\n",
    "plt.ylabel('Right Ascension')\n",
    "plt.show()"
   ]
  },
  {
   "cell_type": "code",
   "execution_count": 183,
   "metadata": {
    "collapsed": true
   },
   "outputs": [],
   "source": [
    "plt.plot(time_array, filenamesdec[6], 'r', lw=1.0)\n",
    "plt.plot(time_array, filenamesdec[7], 'g', lw=1.0)\n",
    "plt.plot(time_array, filenamesdec[8], 'b', lw=1.0)\n",
    "plt.plot(time_array, filenamesdec[9], 'y', lw=1.0)\n",
    "plt.axis([39349, 39655, 0.803, 0.81])\n",
    "#plt.axis([39349, 39655, 0.8026, 0.842])\n",
    "plt.plot([39300, 39700], [0.8045541667, 0.8045541667], 'k-', lw=1)\n",
    "#plt.axhspan(dec_high, dec_low, color='green', alpha=0.5)\n",
    "plt.xlabel('Time in seconds')\n",
    "plt.ylabel('Declination')\n",
    "plt.show()"
   ]
  },
  {
   "cell_type": "code",
   "execution_count": 184,
   "metadata": {
    "collapsed": true
   },
   "outputs": [],
   "source": [
    "plt.plot(time_array, filenamesdec[1], 'r', lw=1.0)\n",
    "plt.plot(time_array, filenamesdec[2], 'g', lw=1.0)\n",
    "plt.plot(time_array, filenamesdec[3], 'b', lw=1.0)\n",
    "\n",
    "#plt.axis([39349, 39655, 0.803, 0.81])\n",
    "#plt.axis([39349, 39655, 0.8026, 0.842])\n",
    "plt.plot([39300, 39700], [3.007, 3.007], 'k-', lw=1)\n",
    "#plt.axhspan(dec_high, dec_low, color='green', alpha=0.5)\n",
    "plt.xlabel('Time in seconds')\n",
    "plt.ylabel('Declination')\n",
    "plt.show()"
   ]
  },
  {
   "cell_type": "code",
   "execution_count": 72,
   "metadata": {
    "collapsed": true
   },
   "outputs": [],
   "source": [
    "plt.plot(time_array_shorter, diag_dec[0], 'r', lw=1.0, label=\"blc00\")\n",
    "plt.plot(time_array_shorter, diag_dec[1], 'b', lw=1.0, label=\"blc01\")\n",
    "plt.plot(time_array_shorter, diag_dec[2], 'g', lw=1.0, label=\"blc02\")\n",
    "plt.plot(time_array_shorter, diag_dec[3], 'r', lw=1.0, label=\"blc03\")\n",
    "plt.plot(time_array_shorter, diag_dec[4], 'b', lw=1.0, label=\"blc04\")\n",
    "plt.plot(time_array_shorter, diag_dec[5], 'g', lw=1.0, label=\"blc05\")\n",
    "plt.plot(time_array_shorter, diag_dec[6], 'r', lw=1.0, label=\"blc06\")\n",
    "#plt.axis([39349, 39655, 0.803, 0.81])\n",
    "#plt.axis([39349, 39655, 0.8026, 0.842])\n",
    "plt.plot([39300, 39700], [61.872777778, 61.872777778], 'k-', lw=1)\n",
    "#plt.axhspan(dec_high, dec_low, color='green', alpha=0.5)\n",
    "plt.xlabel('Time in seconds')\n",
    "plt.ylabel('Declination')\n",
    "plt.legend(bbox_to_anchor=(1.05, 1), loc=0, borderaxespad=0.)\n",
    "plt.suptitle('DIAG+W3OH', fontsize=20)\n",
    "plt.show()"
   ]
  },
  {
   "cell_type": "code",
   "execution_count": null,
   "metadata": {
    "collapsed": true
   },
   "outputs": [],
   "source": []
  },
  {
   "cell_type": "code",
   "execution_count": null,
   "metadata": {
    "collapsed": true
   },
   "outputs": [],
   "source": []
  },
  {
   "cell_type": "markdown",
   "metadata": {},
   "source": [
    "# Testing in Python 3 (local)"
   ]
  },
  {
   "cell_type": "markdown",
   "metadata": {},
   "source": []
  },
  {
   "cell_type": "code",
   "execution_count": 3,
   "metadata": {
    "collapsed": true
   },
   "outputs": [],
   "source": [
    "#create bash script with variables in Python\n",
    "#run bash script with arguments from Python\n",
    "#store output of bash script in Python (no external files)"
   ]
  },
  {
   "cell_type": "code",
   "execution_count": 19,
   "metadata": {},
   "outputs": [
    {
     "name": "stdout",
     "output_type": "stream",
     "text": [
      "b'/Users/jessekyle/bl-interns/jessekyle'\n"
     ]
    }
   ],
   "source": [
    "test = subprocess.check_output('pwd')\n",
    "print(test.strip())"
   ]
  },
  {
   "cell_type": "code",
   "execution_count": null,
   "metadata": {
    "collapsed": true
   },
   "outputs": [],
   "source": []
  }
 ],
 "metadata": {
  "kernelspec": {
   "display_name": "Python 3",
   "language": "python",
   "name": "python3"
  },
  "language_info": {
   "codemirror_mode": {
    "name": "ipython",
    "version": 3
   },
   "file_extension": ".py",
   "mimetype": "text/x-python",
   "name": "python",
   "nbconvert_exporter": "python",
   "pygments_lexer": "ipython3",
   "version": "3.6.1"
  }
 },
 "nbformat": 4,
 "nbformat_minor": 1
}
