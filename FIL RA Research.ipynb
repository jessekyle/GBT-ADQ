{
 "cells": [
  {
   "cell_type": "code",
   "execution_count": 1,
   "metadata": {
    "collapsed": true
   },
   "outputs": [],
   "source": [
    "#! /usr/bin/python"
   ]
  },
  {
   "cell_type": "code",
   "execution_count": 16,
   "metadata": {
    "collapsed": true
   },
   "outputs": [],
   "source": [
    "from blimpy import Filterbank\n",
    "import os\n",
    "import subprocess"
   ]
  },
  {
   "cell_type": "code",
   "execution_count": 160,
   "metadata": {
    "collapsed": false
   },
   "outputs": [],
   "source": [
    "#time_test = os.system(\"fold -w 80 /datax/dibas/AGBT17A_999_93/GUPPI/BLP00/blc00_guppi_57950_74147_ross128_0009.gpuspec..headers | grep 'DAQPULSE=' | head -1812\")\n",
    "#print(time_test)\n",
    "\n",
    "time_test = subprocess.check_output(\"/home/jkyle/filbashtime\")\n",
    "time_list = time_test.split()\n",
    "#if 'DAQPULSE=' in time_list:\n",
    "#    time_list.remove('DAQPULSE=')\n",
    "time_list = [x for x in time_list if x != 'LST']\n",
    "time_list = [x for x in time_list if x != '=']\n",
    "#time_list = [x for x in time_list if x != 'Jul']\n",
    "#time_list = [x for x in time_list if x != '16']\n",
    "#time_list = [x for x in time_list if x != \"2017'\"]\n",
    "time_array = [float(i) for i in time_list]\n",
    "#time_array = np.array([time_array])\n",
    "#print(time_array)\n",
    "\n",
    "ra_test = subprocess.check_output(['cat', '/home/jkyle/ra/raross_1blc00'])\n",
    "\n",
    "ra_list = ra_test.split()\n",
    "ra_list = [x for x in ra_list if x != 'RA']\n",
    "ra_list = [x for x in ra_list if x != '=']\n",
    "ra_array = [float(i) for i in ra_list]\n",
    "#print(ra_array)\n",
    "\n",
    "dec_test = subprocess.check_output(['cat', '/home/jkyle/dec/decross_1blc00'])\n",
    "dec_list = dec_test.split()\n",
    "dec_list = [x for x in dec_list if x != 'DEC']\n",
    "dec_list = [x for x in dec_list if x != '=']\n",
    "dec_array = [float(i) for i in dec_list]\n",
    "#print(dec_array)\n",
    "\n"
   ]
  },
  {
   "cell_type": "code",
   "execution_count": 161,
   "metadata": {
    "collapsed": false
   },
   "outputs": [],
   "source": [
    "def raprocess(var):\n",
    "    #call a file name in ra/ to process into float list\n",
    "    var = subprocess.check_output(['cat', '/home/jkyle/ra/' + var])\n",
    "    ra_list = var.split()\n",
    "    ra_list = [x for x in ra_list if x != 'RA']\n",
    "    ra_list = [x for x in ra_list if x != '=']\n",
    "    var = [float(a) for a in ra_list]\n",
    "    return var"
   ]
  },
  {
   "cell_type": "code",
   "execution_count": 162,
   "metadata": {
    "collapsed": false
   },
   "outputs": [
    {
     "name": "stdout",
     "output_type": "stream",
     "text": [
      "radiag_1blc00 is filenamesra 0\n",
      "rahip_1blc00 is filenamesra 1\n",
      "rahip_2blc00 is filenamesra 2\n",
      "rahip_3blc00 is filenamesra 3\n",
      "raj1103_1blc00 is filenamesra 4\n",
      "raj1136_1blc00 is filenamesra 5\n",
      "raross_1blc00 is filenamesra 6\n",
      "raross_2blc00 is filenamesra 7\n",
      "raross_3blc00 is filenamesra 8\n",
      "raross_4blc00 is filenamesra 9\n"
     ]
    }
   ],
   "source": [
    "filenamesra = ['radiag_1blc00','rahip_1blc00','rahip_2blc00','rahip_3blc00','raj1103_1blc00',\n",
    "             'raj1136_1blc00','raross_1blc00','raross_2blc00','raross_3blc00','raross_4blc00']\n",
    "\n",
    "for x in range(0,10):\n",
    "    print(filenamesra[x] + ' is filenamesra ' + str(x))\n",
    "\n",
    "filenamesra[0] = raprocess(str(filenamesra[0]))\n",
    "filenamesra[1] = raprocess(str(filenamesra[1]))\n",
    "filenamesra[2] = raprocess(str(filenamesra[2]))\n",
    "filenamesra[3] = raprocess(str(filenamesra[3]))\n",
    "filenamesra[4] = raprocess(str(filenamesra[4]))\n",
    "filenamesra[5] = raprocess(str(filenamesra[5]))\n",
    "filenamesra[6] = raprocess(str(filenamesra[6]))\n",
    "filenamesra[7] = raprocess(str(filenamesra[7]))\n",
    "filenamesra[8] = raprocess(str(filenamesra[8]))\n",
    "filenamesra[9] = raprocess(str(filenamesra[9]))"
   ]
  },
  {
   "cell_type": "code",
   "execution_count": 163,
   "metadata": {
    "collapsed": true
   },
   "outputs": [],
   "source": [
    "def decprocess(var):\n",
    "    #call a file name in dec/ to process into float list\n",
    "    var = subprocess.check_output(['cat', '/home/jkyle/dec/' + var])\n",
    "    dec_list = var.split()\n",
    "    dec_list = [x for x in dec_list if x != 'DEC']\n",
    "    dec_list = [x for x in dec_list if x != '=']\n",
    "    var = [float(a) for a in dec_list]\n",
    "    return var"
   ]
  },
  {
   "cell_type": "code",
   "execution_count": 164,
   "metadata": {
    "collapsed": false
   },
   "outputs": [
    {
     "name": "stdout",
     "output_type": "stream",
     "text": [
      "decdiag_1blc00 is filenamesdec 0\n",
      "dechip_1blc00 is filenamesdec 1\n",
      "dechip_2blc00 is filenamesdec 2\n",
      "dechip_3blc00 is filenamesdec 3\n",
      "decj1103_1blc00 is filenamesdec 4\n",
      "decj1136_1blc00 is filenamesdec 5\n",
      "decross_1blc00 is filenamesdec 6\n",
      "decross_2blc00 is filenamesdec 7\n",
      "decross_3blc00 is filenamesdec 8\n",
      "decross_4blc00 is filenamesdec 9\n"
     ]
    }
   ],
   "source": [
    "filenamesdec = ['decdiag_1blc00','dechip_1blc00','dechip_2blc00','dechip_3blc00','decj1103_1blc00',\n",
    "             'decj1136_1blc00','decross_1blc00','decross_2blc00','decross_3blc00','decross_4blc00']\n",
    "\n",
    "for x in range(0,10):\n",
    "    print(filenamesdec[x] + ' is filenamesdec ' + str(x))\n",
    "\n",
    "filenamesdec[0] = decprocess(str(filenamesdec[0]))\n",
    "filenamesdec[1] = decprocess(str(filenamesdec[1]))\n",
    "filenamesdec[2] = decprocess(str(filenamesdec[2]))\n",
    "filenamesdec[3] = decprocess(str(filenamesdec[3]))\n",
    "filenamesdec[4] = decprocess(str(filenamesdec[4]))\n",
    "filenamesdec[5] = decprocess(str(filenamesdec[5]))\n",
    "filenamesdec[6] = decprocess(str(filenamesdec[6]))\n",
    "filenamesdec[7] = decprocess(str(filenamesdec[7]))\n",
    "filenamesdec[8] = decprocess(str(filenamesdec[8]))\n",
    "filenamesdec[9] = decprocess(str(filenamesdec[9]))"
   ]
  },
  {
   "cell_type": "code",
   "execution_count": 165,
   "metadata": {
    "collapsed": false
   },
   "outputs": [
    {
     "name": "stdout",
     "output_type": "stream",
     "text": [
      "672\n",
      "1677\n",
      "1677\n",
      "1677\n",
      "672\n",
      "672\n",
      "1677\n",
      "1677\n",
      "1677\n",
      "1677\n",
      "\n",
      "\n",
      "672\n",
      "1677\n",
      "1677\n",
      "1677\n",
      "672\n",
      "672\n",
      "1677\n",
      "1677\n",
      "1677\n",
      "1677\n"
     ]
    }
   ],
   "source": [
    "del (filenamesra[1])[-1]\n",
    "del (filenamesra[3])[-1]\n",
    "del (filenamesra[6])[-1]\n",
    "del (filenamesra[9])[1676:-1]\n",
    "\n",
    "del (filenamesdec[1])[-1]\n",
    "del (filenamesdec[3])[-1]\n",
    "del (filenamesdec[6])[-1]\n",
    "del (filenamesdec[9])[1676:-1]\n",
    "\n",
    "for i in filenamesra:\n",
    "    print(len(i))\n",
    "print(\"\\n\")\n",
    "\n",
    "for i in filenamesdec:\n",
    "    print(len(i))"
   ]
  },
  {
   "cell_type": "code",
   "execution_count": 166,
   "metadata": {
    "collapsed": false
   },
   "outputs": [
    {
     "name": "stdout",
     "output_type": "stream",
     "text": [
      "1678\n",
      "1677\n",
      "673\n"
     ]
    }
   ],
   "source": [
    "print(len(time_array))\n",
    "del time_array[-1]\n",
    "print(len(time_array))"
   ]
  },
  {
   "cell_type": "code",
   "execution_count": 167,
   "metadata": {
    "collapsed": false
   },
   "outputs": [
    {
     "name": "stdout",
     "output_type": "stream",
     "text": [
      "672\n"
     ]
    }
   ],
   "source": [
    "time_array_short = time_array[0:672]\n",
    "print(len(time_array_short))"
   ]
  },
  {
   "cell_type": "code",
   "execution_count": 168,
   "metadata": {
    "collapsed": false
   },
   "outputs": [
    {
     "name": "stdout",
     "output_type": "stream",
     "text": [
      "176.983317533\n",
      "176.886660866\n",
      "0.85288750005\n",
      "0.75622083335\n"
     ]
    }
   ],
   "source": [
    "ra_true = 176.9349892\n",
    "dec_true = 0.8045541667\n",
    "\n",
    "ra_beam = 0.096656667\n",
    "dec_beam = 0.0966666667\n",
    "\n",
    "ra_high = ra_true + (ra_beam/2)\n",
    "ra_low = ra_true - (ra_beam/2)\n",
    "print(ra_high)\n",
    "print(ra_low)\n",
    "\n",
    "dec_high = dec_true + (dec_beam/2)\n",
    "dec_low = dec_true - (dec_beam/2)\n",
    "print(dec_high)\n",
    "print(dec_low)"
   ]
  },
  {
   "cell_type": "code",
   "execution_count": 169,
   "metadata": {
    "collapsed": false
   },
   "outputs": [],
   "source": [
    "import matplotlib.pyplot as plt\n",
    "import matplotlib.axes as ax\n",
    "import bokeh\n",
    "from bokeh.plotting import figure, output_file, show\n",
    "import numpy as np\n",
    "#%matplotlib notebook\n",
    "#time_array, ra_array, dec_array"
   ]
  },
  {
   "cell_type": "code",
   "execution_count": 15,
   "metadata": {
    "collapsed": false
   },
   "outputs": [],
   "source": [
    "#p = figure(plot_width=400, plot_height=400)\n",
    "#p.line([time_array], [ra_array], line_width=2)\n",
    "#show(p)\n",
    "\n",
    "#plt.plot([time_array], [ra_array], 'ro')\n",
    "#plt.axis([39350, 39653, 0, 20])\n",
    "#plt.show()\n",
    "\n",
    "#plt.plot(time_array, ra_array, linewidth=2.0)\n",
    "#plt.plot(time_array, rablc00, 'b', lw=1)\n",
    "#plt.plot(time_array, rablc02, 'r', lw=1)\n",
    "#plt.plot(time_array, rablc05, 'g', lw=1)\n",
    "#plt.axis([39349, 39655, 176.93, 176.945])\n",
    "#plt.axis([39349, 39655, 176.8, 177.1])\n",
    "#plt.plot([39300, 39700], [176.9349892, 176.9349892], 'k-', lw=1)\n",
    "#plt.plot([39300, 39700], [177.018322533, 177.018322533], lw=1)\n",
    "#plt.axhspan(ra_high, ra_low, color='green', alpha=0.5)\n",
    "#plt.show()\n",
    "\n",
    "#print(ra_array)"
   ]
  },
  {
   "cell_type": "code",
   "execution_count": 170,
   "metadata": {
    "collapsed": true
   },
   "outputs": [],
   "source": [
    "plt.plot(time_array, filenamesra[6], 'r', lw=1.0)\n",
    "plt.plot(time_array, filenamesra[7], 'g', lw=1.0)\n",
    "plt.plot(time_array, filenamesra[8], 'b', lw=1.0)\n",
    "plt.plot(time_array, filenamesra[9], 'y', lw=1.0)\n",
    "#plt.axis([39349, 39655, 0.803, 0.81])\n",
    "plt.axis([39349, 39655, 176.93, 176.945])\n",
    "plt.plot([39300, 39700], [176.9349892, 176.9349892], 'k-', lw=1)\n",
    "#plt.axhspan(dec_high, dec_low, color='green', alpha=0.5)\n",
    "plt.xlabel('Time in seconds')\n",
    "plt.ylabel('Right Ascension')\n",
    "plt.show()"
   ]
  },
  {
   "cell_type": "code",
   "execution_count": 178,
   "metadata": {
    "collapsed": false
   },
   "outputs": [],
   "source": [
    "plt.plot(time_array_short, filenamesra[0], 'r', lw=1.0)\n",
    "#plt.axis([39349, 39655, 0.803, 0.81])\n",
    "#plt.axis([39349, 39655, 30.44, 30.455])\n",
    "plt.plot([39348, 39655], [36.7670833, 36.7670833], 'k-', lw=1)\n",
    "#plt.axhspan(dec_high, dec_low, color='green', alpha=0.5)\n",
    "plt.xlabel('Time in seconds')\n",
    "plt.ylabel('Right Ascension')\n",
    "plt.show()"
   ]
  },
  {
   "cell_type": "code",
   "execution_count": 182,
   "metadata": {
    "collapsed": true
   },
   "outputs": [],
   "source": [
    "plt.plot(time_array_short, filenamesra[5], 'r', lw=1.0)\n",
    "#plt.axis([39349, 39655, 0.803, 0.81])\n",
    "#plt.axis([39349, 39655, 30.44, 30.455])\n",
    "plt.plot([39348, 39655], [174.0135196, 174.0135196], 'k-', lw=1)\n",
    "#plt.axhspan(dec_high, dec_low, color='green', alpha=0.5)\n",
    "plt.xlabel('Time in seconds')\n",
    "plt.ylabel('Right Ascension')\n",
    "plt.show()"
   ]
  },
  {
   "cell_type": "code",
   "execution_count": 180,
   "metadata": {
    "collapsed": false
   },
   "outputs": [],
   "source": [
    "plt.plot(time_array, filenamesra[1], 'r', lw=1.0)\n",
    "plt.plot(time_array, filenamesra[2], 'g', lw=1.0)\n",
    "plt.plot(time_array, filenamesra[3], 'b', lw=1.0)\n",
    "#plt.axis([39349, 39655, 0.803, 0.81])\n",
    "#plt.axis([39349, 39655, 30.44, 30.455])\n",
    "plt.plot([39348, 39655], [171.6891667, 171.6891667], 'k-', lw=1)\n",
    "#plt.axhspan(dec_high, dec_low, color='green', alpha=0.5)\n",
    "plt.xlabel('Time in seconds')\n",
    "plt.ylabel('Right Ascension')\n",
    "plt.show()"
   ]
  },
  {
   "cell_type": "code",
   "execution_count": 183,
   "metadata": {
    "collapsed": false
   },
   "outputs": [],
   "source": [
    "plt.plot(time_array, filenamesdec[6], 'r', lw=1.0)\n",
    "plt.plot(time_array, filenamesdec[7], 'g', lw=1.0)\n",
    "plt.plot(time_array, filenamesdec[8], 'b', lw=1.0)\n",
    "plt.plot(time_array, filenamesdec[9], 'y', lw=1.0)\n",
    "plt.axis([39349, 39655, 0.803, 0.81])\n",
    "#plt.axis([39349, 39655, 0.8026, 0.842])\n",
    "plt.plot([39300, 39700], [0.8045541667, 0.8045541667], 'k-', lw=1)\n",
    "#plt.axhspan(dec_high, dec_low, color='green', alpha=0.5)\n",
    "plt.xlabel('Time in seconds')\n",
    "plt.ylabel('Declination')\n",
    "plt.show()"
   ]
  },
  {
   "cell_type": "code",
   "execution_count": 184,
   "metadata": {
    "collapsed": true
   },
   "outputs": [],
   "source": [
    "plt.plot(time_array, filenamesdec[1], 'r', lw=1.0)\n",
    "plt.plot(time_array, filenamesdec[2], 'g', lw=1.0)\n",
    "plt.plot(time_array, filenamesdec[3], 'b', lw=1.0)\n",
    "\n",
    "#plt.axis([39349, 39655, 0.803, 0.81])\n",
    "#plt.axis([39349, 39655, 0.8026, 0.842])\n",
    "plt.plot([39300, 39700], [3.007, 3.007], 'k-', lw=1)\n",
    "#plt.axhspan(dec_high, dec_low, color='green', alpha=0.5)\n",
    "plt.xlabel('Time in seconds')\n",
    "plt.ylabel('Declination')\n",
    "plt.show()"
   ]
  },
  {
   "cell_type": "code",
   "execution_count": 187,
   "metadata": {
    "collapsed": true
   },
   "outputs": [],
   "source": [
    "plt.plot(time_array_short, filenamesdec[5], 'r', lw=1.0)\n",
    "#plt.axis([39349, 39655, 0.803, 0.81])\n",
    "#plt.axis([39349, 39655, 0.8026, 0.842])\n",
    "plt.plot([39300, 39700], [15.8512444444, 15.8512444444], 'k-', lw=1)\n",
    "#plt.axhspan(dec_high, dec_low, color='green', alpha=0.5)\n",
    "plt.xlabel('Time in seconds')\n",
    "plt.ylabel('Declination')\n",
    "plt.show()"
   ]
  },
  {
   "cell_type": "code",
   "execution_count": null,
   "metadata": {
    "collapsed": true
   },
   "outputs": [],
   "source": []
  }
 ],
 "metadata": {
  "kernelspec": {
   "display_name": "Python 2",
   "language": "python",
   "name": "python2"
  },
  "language_info": {
   "codemirror_mode": {
    "name": "ipython",
    "version": 2
   },
   "file_extension": ".py",
   "mimetype": "text/x-python",
   "name": "python",
   "nbconvert_exporter": "python",
   "pygments_lexer": "ipython2",
   "version": "2.7.3"
  }
 },
 "nbformat": 4,
 "nbformat_minor": 0
}
