{
 "cells": [
  {
   "cell_type": "code",
   "execution_count": 1,
   "metadata": {
    "collapsed": true
   },
   "outputs": [],
   "source": [
    "#! /usr/bin/python"
   ]
  },
  {
   "cell_type": "code",
   "execution_count": 23,
   "metadata": {
    "collapsed": false
   },
   "outputs": [],
   "source": [
    "#from blimpy import Filterbank\n",
    "import os\n",
    "import subprocess\n",
    "import matplotlib.pyplot as plt\n",
    "import matplotlib.axes as ax\n",
    "import bokeh\n",
    "from bokeh.plotting import figure, output_file, show\n",
    "import numpy as np\n",
    "from IPython.display import clear_output"
   ]
  },
  {
   "cell_type": "code",
   "execution_count": 24,
   "metadata": {
    "collapsed": false
   },
   "outputs": [
    {
     "name": "stdout",
     "output_type": "stream",
     "text": [
      "What node are you looking at? e.g. blc00: blc00\n",
      "What is the project ID? e.g. AGBT17A_999_93\n",
      "What is the observation number of the source?e.g. blc00_GUPPI_12345_?_SOURCE...75515\n",
      "What is the source name? e.g. ross128: ross128\n"
     ]
    }
   ],
   "source": [
    "node = raw_input(\"What node are you looking at? e.g. blc00: \")\n",
    "projid = raw_input(\"What is the project ID? e.g. AGBT17A_999_\")\n",
    "number = raw_input(\"What is the observation number of the source?\" + \n",
    "              \"e.g. blc00_GUPPI_12345_?_SOURCE...\")\n",
    "source = raw_input(\"What is the source name? e.g. ross128: \")\n",
    "#test with blc00, 93, 75515, ross128"
   ]
  },
  {
   "cell_type": "code",
   "execution_count": 25,
   "metadata": {
    "collapsed": false
   },
   "outputs": [
    {
     "name": "stdout",
     "output_type": "stream",
     "text": [
      "blc00\n",
      "93\n",
      "75515\n",
      "ross128\n"
     ]
    }
   ],
   "source": [
    "print(node)\n",
    "print(projid)\n",
    "print(number)\n",
    "print(source)"
   ]
  },
  {
   "cell_type": "code",
   "execution_count": 26,
   "metadata": {
    "collapsed": false
   },
   "outputs": [
    {
     "name": "stdout",
     "output_type": "stream",
     "text": [
      "671\n"
     ]
    }
   ],
   "source": [
    "time_test = subprocess.check_output([\"/home/jkyle/filbashtime\",\n",
    "                                    node, projid, number, source])\n",
    "time_list = time_test.split()\n",
    "time_array = [float(i) for i in time_list]\n",
    "print(len(time_array))"
   ]
  },
  {
   "cell_type": "code",
   "execution_count": 5,
   "metadata": {
    "collapsed": false
   },
   "outputs": [],
   "source": [
    "DIAG_RA = 36.76708333\n",
    "DIAG_DEC = 61.872777778 "
   ]
  },
  {
   "cell_type": "code",
   "execution_count": 42,
   "metadata": {
    "collapsed": false
   },
   "outputs": [
    {
     "name": "stdout",
     "output_type": "stream",
     "text": [
      "What star are you graphing?\n",
      " choose: radiag, rahip, raj1103, rarossraross\n"
     ]
    },
    {
     "ename": "IOError",
     "evalue": "[Errno 2] No such file or directory: '/home/jkyle/ra/raross_*'",
     "output_type": "error",
     "traceback": [
      "\u001b[1;31m---------------------------------------------------------------------------\u001b[0m",
      "\u001b[1;31mIOError\u001b[0m                                   Traceback (most recent call last)",
      "\u001b[1;32m<ipython-input-42-9fcfe06e323d>\u001b[0m in \u001b[0;36m<module>\u001b[1;34m()\u001b[0m\n\u001b[0;32m      6\u001b[0m \u001b[1;33m\u001b[0m\u001b[0m\n\u001b[0;32m      7\u001b[0m \u001b[1;32mfor\u001b[0m \u001b[0mfilename\u001b[0m \u001b[1;32min\u001b[0m \u001b[0mra_filenames\u001b[0m\u001b[1;33m:\u001b[0m\u001b[1;33m\u001b[0m\u001b[0m\n\u001b[1;32m----> 8\u001b[1;33m     \u001b[1;32mwith\u001b[0m \u001b[0mopen\u001b[0m\u001b[1;33m(\u001b[0m\u001b[1;34m'/home/jkyle/ra/'\u001b[0m \u001b[1;33m+\u001b[0m \u001b[0mstar\u001b[0m\u001b[1;33m.\u001b[0m\u001b[0mstrip\u001b[0m\u001b[1;33m(\u001b[0m\u001b[1;33m)\u001b[0m\u001b[1;33m.\u001b[0m\u001b[0mlower\u001b[0m\u001b[1;33m(\u001b[0m\u001b[1;33m)\u001b[0m \u001b[1;33m+\u001b[0m \u001b[1;34m'_*'\u001b[0m\u001b[1;33m)\u001b[0m \u001b[1;32mas\u001b[0m \u001b[0mfile_obj\u001b[0m\u001b[1;33m:\u001b[0m\u001b[1;33m\u001b[0m\u001b[0m\n\u001b[0m\u001b[0;32m      9\u001b[0m         \u001b[1;32mprint\u001b[0m\u001b[1;33m(\u001b[0m\u001b[0mfilename\u001b[0m\u001b[1;33m)\u001b[0m\u001b[1;33m\u001b[0m\u001b[0m\n\u001b[0;32m     10\u001b[0m         \u001b[0mcommand\u001b[0m \u001b[1;33m=\u001b[0m \u001b[0mraw_input\u001b[0m\u001b[1;33m(\u001b[0m\u001b[1;34m\"Process this file 'P', graph processed 'G', or exit? 'Q'\"\u001b[0m\u001b[1;33m)\u001b[0m\u001b[1;33m\u001b[0m\u001b[0m\n",
      "\u001b[1;31mIOError\u001b[0m: [Errno 2] No such file or directory: '/home/jkyle/ra/raross_*'"
     ]
    }
   ],
   "source": [
    "ra_filenames = subprocess.check_output(['ls', '-1',\n",
    "                                     '/home/jkyle/ra']).split()\n",
    "\n",
    "star = raw_input(\"What star are you graphing?\" + \n",
    "                    \"\\n choose: radiag, rahip, raj1103, raross\")\n",
    "\n",
    "for filename in ra_filenames:\n",
    "    with open('/home/jkyle/ra/' + star.strip().lower() + '_*') as file_obj:\n",
    "        print(filename)\n",
    "        command = raw_input(\"Process this file 'P', graph processed 'G', or exit? 'Q'\")\n",
    "        if str(command) == 'P':\n",
    "            list_name = str(filename)\n",
    "            file_data = [float(a) for a in file_obj.readlines()]\n",
    "            color = raw_input(\"Choose a plot color: b, g, r, c, m, y, k \")\n",
    "            plt.plot(time_array, file_data, str(color), lw=1.0, label=str(list_name))\n",
    "        elif str(command) == 'G':\n",
    "            plt.xlabel('Time in seconds')\n",
    "            plt.ylabel('Right Ascension')\n",
    "            plt.legend(bbox_to_anchor=(1.05, 1), loc=0, borderaxespad=0.)\n",
    "            plt.suptitle(str(list_name), fontsize=20)\n",
    "            plt.show()\n",
    "            clear_output()\n",
    "        elif str(command) == 'Q':\n",
    "            continue"
   ]
  },
  {
   "cell_type": "code",
   "execution_count": null,
   "metadata": {
    "collapsed": false
   },
   "outputs": [],
   "source": []
  },
  {
   "cell_type": "code",
   "execution_count": 17,
   "metadata": {
    "collapsed": false
   },
   "outputs": [
    {
     "name": "stdout",
     "output_type": "stream",
     "text": [
      "[]\n"
     ]
    }
   ],
   "source": [
    "dec_filenames = subprocess.check_output(['ls', '-1',\n",
    "                                     '/home/jkyle/dec']).split()\n",
    "for filename in dec_filenames:\n",
    "    with open('/home/jkyle/ra/' + filename) as file_obj:\n",
    "        file_data = [float(a) for a in file_obj.readlines()]\n",
    "print(dec_filenames)"
   ]
  },
  {
   "cell_type": "code",
   "execution_count": null,
   "metadata": {
    "collapsed": true
   },
   "outputs": [],
   "source": []
  },
  {
   "cell_type": "code",
   "execution_count": 13,
   "metadata": {
    "collapsed": true
   },
   "outputs": [],
   "source": [
    "def raprocess(var):\n",
    "    #call a file name in ra/ to process into float list\n",
    "    var = subprocess.check_output(['cat', '/home/jkyle/ra/' + var])\n",
    "    ra_list = var.split()\n",
    "    var = [float(a) for a in ra_list]\n",
    "    return var"
   ]
  },
  {
   "cell_type": "code",
   "execution_count": null,
   "metadata": {
    "collapsed": true
   },
   "outputs": [],
   "source": [
    "def decprocess(var):\n",
    "    #call a file name in dec/ to process into float list\n",
    "    var = subprocess.check_output(['cat', '/home/jkyle/dec/' + var])\n",
    "    dec_list = var.split()\n",
    "    var = [float(a) for a in dec_list]\n",
    "    return var"
   ]
  },
  {
   "cell_type": "code",
   "execution_count": null,
   "metadata": {
    "collapsed": true
   },
   "outputs": [],
   "source": []
  },
  {
   "cell_type": "code",
   "execution_count": null,
   "metadata": {
    "collapsed": true
   },
   "outputs": [],
   "source": []
  },
  {
   "cell_type": "code",
   "execution_count": null,
   "metadata": {
    "collapsed": true
   },
   "outputs": [],
   "source": []
  }
 ],
 "metadata": {
  "kernelspec": {
   "display_name": "Python 2",
   "language": "python",
   "name": "python2"
  },
  "language_info": {
   "codemirror_mode": {
    "name": "ipython",
    "version": 2
   },
   "file_extension": ".py",
   "mimetype": "text/x-python",
   "name": "python",
   "nbconvert_exporter": "python",
   "pygments_lexer": "ipython2",
   "version": "2.7.3"
  }
 },
 "nbformat": 4,
 "nbformat_minor": 1
}
