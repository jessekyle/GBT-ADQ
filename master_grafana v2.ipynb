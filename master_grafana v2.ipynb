{
 "cells": [
  {
   "cell_type": "code",
   "execution_count": 1,
   "metadata": {
    "collapsed": true
   },
   "outputs": [],
   "source": [
    "from __future__ import print_function\n",
    "import subprocess\n",
    "import sys\n",
    "import os\n",
    "from sys import stdout\n",
    "from time import sleep\n",
    "from astropy import units as u\n",
    "from astropy.coordinates import SkyCoord\n"
   ]
  },
  {
   "cell_type": "code",
   "execution_count": null,
   "metadata": {
    "collapsed": true
   },
   "outputs": [],
   "source": [
    "#WHICH NODES IS BREAKTHROUGH LISTEN OBSERVING WITH (BANKS):\n",
    "\n",
    "banks = {}\n",
    "for x in range(0,8):\n",
    "    banks[\"blc0\" + str(x)] = subprocess.check_output([\"redis-cli\",\n",
    "                                                        \"mget\", \"blc0\" +\n",
    "                                                        str(x) + \"_observing\"])\n",
    "for x in range(10,18) + range(20,28) + range(30,38):\n",
    "    banks[\"blc\" + str(x)] = subprocess.check_output([\"redis-cli\",\n",
    "                                                        \"mget\", \"blc\" +\n",
    "                                                        str(x) + \"_observing\"])\n",
    "#generates bank key with observation status as value\n",
    "\n",
    "os.system(\"rm /home/jkyle/blcbanks/banks.txt\")\n",
    "#remove created text file to ensure overwrite with new status\n",
    "\n",
    "for x in banks:\n",
    "    if banks[x] == \"on\\n\":\n",
    "        nodes = []\n",
    "        nodes.append(x.upper())\n",
    "    else:\n",
    "        continue\n",
    "    for x in nodes:\n",
    "        message = (\"echo 'nodes,host=\" + x.upper() +\n",
    "                   \",region=us value=1' >> /home/jkyle/blcbanks/banks.txt\")\n",
    "        os.system(message)\n",
    "#formatting for influxdb entry\n",
    "\n",
    "if all(x == 'off\\n' for x in banks.values()):\n",
    "    message = \"Breakthrough Listen is not observing.\\n\"\n",
    "    message = (\"echo 'nodes,host=Breakthrough\\\\ Listen\\\\ is\\\\ not\\\\ observing,\" +\n",
    "                \"region=us value=0' > /home/jkyle/blcbanks/banks.txt\")\n",
    "    os.system(message)\n",
    "#formatting for influxdb entry\n",
    "\n",
    "#os.system(\"scp /home/jkyle/blcbanks/banks.txt jkyle@104.199.127.246:/home/jkyle/public_html/\")\n",
    "#transferrnig to virtual machine redis server\n"
   ]
  },
  {
   "cell_type": "code",
   "execution_count": null,
   "metadata": {
    "collapsed": true
   },
   "outputs": [],
   "source": [
    "#GENERATES RAW FILES AND TELESCOPE DATA (GRAFANA):\n",
    "\n",
    "os.system(\"rm /home/jkyle/grafana.txt\")\n",
    "\n",
    "bank0 = ('00', '01', '02', '03', '04', '05', '06', '07',\n",
    "         '10', '11', '12', '13', '14', '15', '16', '17',\n",
    "         '20', '21', '22', '23', '24', '25', '26', '27',\n",
    "         '30', '31', '32', '33', '34', '35', '36', '37')\n",
    "\n",
    "for x in bank0:\n",
    "    try:\n",
    "        y = (\"BLC\" + x)\n",
    "        i = subprocess.check_output([\"/home/jkyle/GBT-ADQ/mysql/blc/blc\", (\"blc\" + x)])\n",
    "        if i == i:\n",
    "                os.system(\"echo '\" + i[0:5].strip(\"\\n\") + \"raw,host=\" +\n",
    "                        i[5:].strip(\"\\n\") + \",region=us value=1' >> grafana.txt\")\n",
    "    except:\n",
    "        continue\n",
    "        #this will print an error code, not sure what influxdb will do\n",
    "\n",
    "RA = subprocess.check_output(\"/home/jkyle/GBT-ADQ/mysql/show_mysql_ra\")\n",
    "os.system(\"echo '\" + \"ra,host=gbt,region=us value=\"\n",
    "                + str(RA[0:8].strip(\"\\n\")) + \"' >> grafana.txt\")\n",
    "\n",
    "DEC = subprocess.check_output(\"/home/jkyle/GBT-ADQ/mysql/show_mysql_dec\")\n",
    "os.system(\"echo '\" + \"dec,host=gbt,region=us value=\"\n",
    "                + str(DEC[0:8].strip(\"\\n\")) + \"' >> grafana.txt\")\n",
    "\n",
    "\n",
    "RAhms = subprocess.check_output(\"/home/jkyle/GBT-ADQ/mysql/show_mysql_ra\")\n",
    "DEChms = subprocess.check_output(\"/home/jkyle/GBT-ADQ/mysql/show_mysql_dec\")\n",
    "RAhms = float(RA.strip(\"\\n\"))\n",
    "DEChms = float(DEC.strip(\"\\n\"))\n",
    "coordinates = SkyCoord(ra=RAhms*u.degree, dec=DEChms*u.degree)\n",
    "coordinates = coordinates.to_string(\"hmsdms\")\n",
    "RAhms = coordinates[0:13]\n",
    "DEChms = coordinates[14:]\n",
    "#need to convert to HH:MM:SS\n",
    "\n",
    "os.system(\"echo '\" + \"rahms,host=gbt,region=us value=\"\n",
    "                + \"\\\"\" + str(RAhms) + \"\\\"\" +  \"' >> grafana.txt\")\n",
    "os.system(\"echo '\" + \"dechms,host=gbt,region=us value=\"\n",
    "                + \"\\\"\" + str(DEChms) + \"\\\"\" +  \"' >> grafana.txt\")\n",
    "#need to convert to DD:MM:SS\n",
    "\n",
    "SOURCE = subprocess.check_output(\"/home/jkyle/GBT-ADQ/mysql/show_mysql_source\")\n",
    "os.system(\"echo '\" + \"source,host=\" + SOURCE.strip(\"\\n\")\n",
    "                + \",region=us value=1\" + \"' >> grafana.txt\")\n",
    "\n",
    "DISH = subprocess.check_output(\"/home/jkyle/GBT-ADQ/mysql/show_mysql_ant\")\n",
    "os.system(\"echo '\" + \"dish,host=\" + DISH.strip(\"\\n\")\n",
    "                + \",region=us value=1\" + \"' >> grafana.txt\")\n",
    "\n",
    "DATE = subprocess.check_output(\"/home/jkyle/GBT-ADQ/mysql/show_mysql_date\")\n",
    "os.system(\"echo '\" + \"date,host=\" + DATE.strip(\"\\n\")\n",
    "                + \",region=us value=1\" + \"' >> grafana.txt\")\n",
    "\n",
    "DIR = subprocess.check_output(\"/home/jkyle/GBT-ADQ/mysql/show_mysql_data\")\n",
    "os.system(\"echo '\" + \"dir,host=\" + DIR.strip(\"\\n\")\n",
    "                + \",region=us value=1\" + \"' >> grafana.txt\")\n",
    "\n",
    "REM = subprocess.check_output(\"/home/jkyle/GBT-ADQ/mysql/show_mysql_remaining\")\n",
    "os.system(\"echo '\" + \"rem,host=\" + REM.strip(\"\\n\")\n",
    "                + \",region=us value=1\" + \"' >> grafana.txt\")\n",
    "\n",
    "os.system(\"scp /home/jkyle/grafana.txt jkyle@104.199.127.246:/home/jkyle/public_html/\")\n"
   ]
  },
  {
   "cell_type": "code",
   "execution_count": null,
   "metadata": {
    "collapsed": true
   },
   "outputs": [],
   "source": [
    "#PULL INPUT DATA FROM COMPUTE NODES (IOSTATUS):\n",
    "\n",
    "os.system(\"~obs/bin/all_check_iostats > iostats\")\n",
    "stats = open(\"iostats\")\n",
    "data = [line.split() for line in stats.readlines()]\n",
    "\n",
    "os.system(\"rm iostats.txt\")"
   ]
  },
  {
   "cell_type": "code",
   "execution_count": 129,
   "metadata": {
    "collapsed": false
   },
   "outputs": [
    {
     "name": "stdout",
     "output_type": "stream",
     "text": [
      "[0, 4, 8]\n"
     ]
    }
   ],
   "source": [
    "test = range(0,12,4)\n",
    "print(test)"
   ]
  },
  {
   "cell_type": "code",
   "execution_count": 127,
   "metadata": {
    "collapsed": false
   },
   "outputs": [
    {
     "name": "stdout",
     "output_type": "stream",
     "text": [
      "echo 'blc00\\ sda,host=gbt,location=wkbs value=427834.00' >> iostats.txt\n",
      "echo 'blc01\\ sdb,host=gbt,location=wkbs value=547870.00' >> iostats.txt\n",
      "echo 'blc02\\ sdb,host=gbt,location=wkbs value=657804.00' >> iostats.txt\n",
      "echo 'blc03\\ sdb,host=gbt,location=wkbs value=439998.00' >> iostats.txt\n",
      "echo 'blc04\\ sda,host=gbt,location=wkbs value=683898.00' >> iostats.txt\n",
      "echo 'blc05\\ sda,host=gbt,location=wkbs value=573754.00' >> iostats.txt\n",
      "echo 'blc06\\ sdb,host=gbt,location=wkbs value=617464.00' >> iostats.txt\n",
      "echo 'blc07\\ sda,host=gbt,location=wkbs value=542556.00' >> iostats.txt\n",
      "echo 'blc10\\ sda,host=gbt,location=wkbs value=618236.00' >> iostats.txt\n",
      "echo 'blc11\\ sda,host=gbt,location=wkbs value=573522.00' >> iostats.txt\n",
      "echo 'blc12\\ sda,host=gbt,location=wkbs value=683512.00' >> iostats.txt\n",
      "echo 'blc13\\ sda,host=gbt,location=wkbs value=527758.00' >> iostats.txt\n",
      "echo 'blc14\\ sda,host=gbt,location=wkbs value=496126.00' >> iostats.txt\n",
      "echo 'blc15\\ sdb,host=gbt,location=wkbs value=531768.00' >> iostats.txt\n",
      "echo 'blc16\\ sda,host=gbt,location=wkbs value=614264.00' >> iostats.txt\n",
      "echo 'blc17\\ sda,host=gbt,location=wkbs value=530748.00' >> iostats.txt\n",
      "echo 'blc20\\ sda,host=gbt,location=wkbs value=475132.00' >> iostats.txt\n",
      "echo 'blc21\\ sda,host=gbt,location=wkbs value=451836.00' >> iostats.txt\n",
      "echo 'blc22\\ sda,host=gbt,location=wkbs value=387708.00' >> iostats.txt\n",
      "echo 'blc23\\ sda,host=gbt,location=wkbs value=468728.00' >> iostats.txt\n",
      "echo 'blc24\\ sda,host=gbt,location=wkbs value=669436.00' >> iostats.txt\n",
      "echo 'blc25\\ sda,host=gbt,location=wkbs value=433786.00' >> iostats.txt\n",
      "echo 'blc26\\ sda,host=gbt,location=wkbs value=456954.00' >> iostats.txt\n",
      "echo 'blc27\\ sda,host=gbt,location=wkbs value=435262.00' >> iostats.txt\n",
      "echo 'blc30\\ sda,host=gbt,location=wkbs value=1292.00' >> iostats.txt\n",
      "echo 'blc31\\ sda,host=gbt,location=wkbs value=592634.00' >> iostats.txt\n",
      "echo 'blc32\\ sda,host=gbt,location=wkbs value=954870.00' >> iostats.txt\n",
      "echo 'blc33\\ sda,host=gbt,location=wkbs value=1022704.00' >> iostats.txt\n",
      "echo 'blc34\\ sda,host=gbt,location=wkbs value=1017844.00' >> iostats.txt\n",
      "echo 'blc35\\ sda,host=gbt,location=wkbs value=1054896.00' >> iostats.txt\n",
      "echo 'blc36\\ sda,host=gbt,location=wkbs value=998774.00' >> iostats.txt\n",
      "echo 'blc37\\ sda,host=gbt,location=wkbs value=1266.00' >> iostats.txt\n"
     ]
    },
    {
     "data": {
      "text/plain": [
       "0"
      ]
     },
     "execution_count": 127,
     "metadata": {},
     "output_type": "execute_result"
    }
   ],
   "source": [
    "write = {}\n",
    "for x in range(0,128,4):\n",
    "    i = x+2\n",
    "    ii = x+3\n",
    "    write[str(data[x][0]) + \"\\\\ sda\"] = data[i][5]\n",
    "    write[str(data[x][0]) + \"\\\\ sdb\"] = data[ii][5]\n",
    "\n",
    "for key in sorted(write.iterkeys()):\n",
    "    if float(write[key]) == 0.00:\n",
    "        pass\n",
    "    else:\n",
    "        os.system(\"echo '%s,host=gbt,location=wkbs value=%s' >> iostats.txt\" % (key, write[key]))\n",
    "\n",
    "read = {}\n",
    "for x in range(0,128,4):\n",
    "    i = x+2\n",
    "    ii = x+3\n",
    "    read[str(data[x][0]) + \"\\\\ sda\"] = data[i][6]\n",
    "    read[str(data[x][0]) + \"\\\\ sdb\"] = data[ii][6]\n",
    "    \n",
    "for key in sorted(read.iterkeys()):\n",
    "    if float(read[key]) == 0.00:\n",
    "        pass\n",
    "    else:\n",
    "        os.system(\"echo '%s,host=gbt,location=rkbs value=%s' >> iostats.txt\" % (key, read[key]))\n",
    "\n",
    "util = {}\n",
    "for x in range(0,128,4):\n",
    "    i = x+2\n",
    "    ii = x+3\n",
    "    util[str(data[x][0]) + \"\\\\ sda\"] = data[i][-1]\n",
    "    util[str(data[x][0]) + \"\\\\ sdb\"] = data[ii][-1]\n",
    "    \n",
    "for key in sorted(util.iterkeys()):\n",
    "    if float(util[key]) == 0.00:\n",
    "        pass\n",
    "    else:\n",
    "        os.system(\"echo '%s,host=gbt,location=util value=%s' >> iostats.txt\" % (key, util[key]))\n",
    "\n",
    "os.system(\"scp /home/jkyle/iostats.txt jkyle@104.199.127.246:/home/jkyle/public_html/\")"
   ]
  },
  {
   "cell_type": "code",
   "execution_count": null,
   "metadata": {
    "collapsed": true
   },
   "outputs": [],
   "source": []
  },
  {
   "cell_type": "code",
   "execution_count": null,
   "metadata": {
    "collapsed": true
   },
   "outputs": [],
   "source": []
  },
  {
   "cell_type": "code",
   "execution_count": null,
   "metadata": {
    "collapsed": true
   },
   "outputs": [],
   "source": []
  },
  {
   "cell_type": "code",
   "execution_count": null,
   "metadata": {
    "collapsed": true
   },
   "outputs": [],
   "source": []
  }
 ],
 "metadata": {
  "kernelspec": {
   "display_name": "Python 2",
   "language": "python",
   "name": "python2"
  },
  "language_info": {
   "codemirror_mode": {
    "name": "ipython",
    "version": 2
   },
   "file_extension": ".py",
   "mimetype": "text/x-python",
   "name": "python",
   "nbconvert_exporter": "python",
   "pygments_lexer": "ipython2",
   "version": "2.7.3"
  }
 },
 "nbformat": 4,
 "nbformat_minor": 0
}
